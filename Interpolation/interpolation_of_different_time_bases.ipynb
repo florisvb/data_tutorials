{
 "cells": [
  {
   "cell_type": "code",
   "execution_count": 61,
   "metadata": {},
   "outputs": [],
   "source": [
    "import numpy as np\n",
    "import matplotlib.pyplot as plt\n",
    "import pandas\n",
    "import scipy.interpolate"
   ]
  },
  {
   "cell_type": "markdown",
   "metadata": {},
   "source": [
    "# Make some fake data and organize into a single dataframe"
   ]
  },
  {
   "cell_type": "markdown",
   "metadata": {},
   "source": [
    "### Make the fake data"
   ]
  },
  {
   "cell_type": "code",
   "execution_count": 64,
   "metadata": {},
   "outputs": [],
   "source": [
    "t_sensor_1 = np.arange(0, 10, 0.07) + np.random.normal(0, 0.005) # add a little noise to the time for fun\n",
    "t_sensor_2 = np.arange(0.075, 10+0.075, 0.2) + np.random.normal(0, 0.01)\n",
    "\n",
    "sensor_1 = np.sin(t_sensor_1)\n",
    "sensor_2 = t_sensor_2*np.sin(t_sensor_2)"
   ]
  },
  {
   "cell_type": "code",
   "execution_count": 65,
   "metadata": {},
   "outputs": [
    {
     "data": {
      "text/plain": [
       "Text(0, 0.5, 'sensor 1')"
      ]
     },
     "execution_count": 65,
     "metadata": {},
     "output_type": "execute_result"
    },
    {
     "data": {
      "image/png": "[encoded data removed]",
      "text/plain": [
       "<Figure size 432x288 with 1 Axes>"
      ]
     },
     "metadata": {
      "needs_background": "light"
     },
     "output_type": "display_data"
    }
   ],
   "source": [
    "plt.plot(t_sensor_1, sensor_1, '.')\n",
    "plt.xlabel('time')\n",
    "plt.ylabel('sensor 1')"
   ]
  },
  {
   "cell_type": "code",
   "execution_count": 66,
   "metadata": {},
   "outputs": [
    {
     "data": {
      "text/plain": [
       "Text(0, 0.5, 'sensor 2')"
      ]
     },
     "execution_count": 66,
     "metadata": {},
     "output_type": "execute_result"
    },
    {
     "data": {
      "image/png": "[encoded data removed]",
      "text/plain": [
       "<Figure size 432x288 with 1 Axes>"
      ]
     },
     "metadata": {
      "needs_background": "light"
     },
     "output_type": "display_data"
    }
   ],
   "source": [
    "plt.plot(t_sensor_2, sensor_2, '.', color='red')\n",
    "plt.xlabel('time')\n",
    "plt.ylabel('sensor 2')"
   ]
  },
  {
   "cell_type": "code",
   "execution_count": 67,
   "metadata": {},
   "outputs": [
    {
     "data": {
      "text/plain": [
       "Text(0, 0.5, 'sensor 2')"
      ]
     },
     "execution_count": 67,
     "metadata": {},
     "output_type": "execute_result"
    },
    {
     "data": {
      "image/png": "[encoded data removed]",
      "text/plain": [
       "<Figure size 432x288 with 1 Axes>"
      ]
     },
     "metadata": {
      "needs_background": "light"
     },
     "output_type": "display_data"
    }
   ],
   "source": [
    "plt.plot(t_sensor_1, sensor_1, '.')\n",
    "plt.xlabel('time')\n",
    "plt.ylabel('sensor 1')\n",
    "\n",
    "plt.plot(t_sensor_2, sensor_2, '.', color='red')\n",
    "plt.xlabel('time')\n",
    "plt.ylabel('sensor 2')"
   ]
  },
  {
   "cell_type": "markdown",
   "metadata": {},
   "source": [
    "### Put it in a pandas dataframe"
   ]
  },
  {
   "cell_type": "code",
   "execution_count": 68,
   "metadata": {},
   "outputs": [],
   "source": [
    "df_1 = pandas.DataFrame({'t_sensor_1': t_sensor_1,\n",
    "                         'sensor_1': sensor_1,\n",
    "                  })\n",
    "\n",
    "df_2 = pandas.DataFrame({'t_sensor_2': t_sensor_2,\n",
    "                         'sensor_2': sensor_2,\n",
    "                  })"
   ]
  },
  {
   "cell_type": "code",
   "execution_count": 69,
   "metadata": {},
   "outputs": [],
   "source": [
    "# combine the two sensor dataframes into one dataframe, and add a universal time\n",
    "df = pandas.concat([df_1, df_2], sort=True)\n",
    "\n",
    "combined_time = np.hstack([t_sensor_1, t_sensor_2])\n",
    "df['time'] = combined_time\n",
    "df = df.sort_values(by=['time'])"
   ]
  },
  {
   "cell_type": "code",
   "execution_count": 70,
   "metadata": {},
   "outputs": [
    {
     "data": {
      "text/html": [
       "<div>\n",
       "<style scoped>\n",
       "    .dataframe tbody tr th:only-of-type {\n",
       "        vertical-align: middle;\n",
       "    }\n",
       "\n",
       "    .dataframe tbody tr th {\n",
       "        vertical-align: top;\n",
       "    }\n",
       "\n",
       "    .dataframe thead th {\n",
       "        text-align: right;\n",
       "    }\n",
       "</style>\n",
       "<table border=\"1\" class=\"dataframe\">\n",
       "  <thead>\n",
       "    <tr style=\"text-align: right;\">\n",
       "      <th></th>\n",
       "      <th>sensor_1</th>\n",
       "      <th>sensor_2</th>\n",
       "      <th>t_sensor_1</th>\n",
       "      <th>t_sensor_2</th>\n",
       "      <th>time</th>\n",
       "    </tr>\n",
       "  </thead>\n",
       "  <tbody>\n",
       "    <tr>\n",
       "      <th>0</th>\n",
       "      <td>0.000427</td>\n",
       "      <td>NaN</td>\n",
       "      <td>0.000427</td>\n",
       "      <td>NaN</td>\n",
       "      <td>0.000427</td>\n",
       "    </tr>\n",
       "    <tr>\n",
       "      <th>1</th>\n",
       "      <td>0.070369</td>\n",
       "      <td>NaN</td>\n",
       "      <td>0.070427</td>\n",
       "      <td>NaN</td>\n",
       "      <td>0.070427</td>\n",
       "    </tr>\n",
       "    <tr>\n",
       "      <th>0</th>\n",
       "      <td>NaN</td>\n",
       "      <td>0.007282</td>\n",
       "      <td>NaN</td>\n",
       "      <td>0.085388</td>\n",
       "      <td>0.085388</td>\n",
       "    </tr>\n",
       "    <tr>\n",
       "      <th>2</th>\n",
       "      <td>0.139966</td>\n",
       "      <td>NaN</td>\n",
       "      <td>0.140427</td>\n",
       "      <td>NaN</td>\n",
       "      <td>0.140427</td>\n",
       "    </tr>\n",
       "    <tr>\n",
       "      <th>3</th>\n",
       "      <td>0.208877</td>\n",
       "      <td>NaN</td>\n",
       "      <td>0.210427</td>\n",
       "      <td>NaN</td>\n",
       "      <td>0.210427</td>\n",
       "    </tr>\n",
       "    <tr>\n",
       "      <th>...</th>\n",
       "      <td>...</td>\n",
       "      <td>...</td>\n",
       "      <td>...</td>\n",
       "      <td>...</td>\n",
       "      <td>...</td>\n",
       "    </tr>\n",
       "    <tr>\n",
       "      <th>139</th>\n",
       "      <td>-0.300912</td>\n",
       "      <td>NaN</td>\n",
       "      <td>9.730427</td>\n",
       "      <td>NaN</td>\n",
       "      <td>9.730427</td>\n",
       "    </tr>\n",
       "    <tr>\n",
       "      <th>140</th>\n",
       "      <td>-0.366876</td>\n",
       "      <td>NaN</td>\n",
       "      <td>9.800427</td>\n",
       "      <td>NaN</td>\n",
       "      <td>9.800427</td>\n",
       "    </tr>\n",
       "    <tr>\n",
       "      <th>141</th>\n",
       "      <td>-0.431043</td>\n",
       "      <td>NaN</td>\n",
       "      <td>9.870427</td>\n",
       "      <td>NaN</td>\n",
       "      <td>9.870427</td>\n",
       "    </tr>\n",
       "    <tr>\n",
       "      <th>49</th>\n",
       "      <td>NaN</td>\n",
       "      <td>-4.393999</td>\n",
       "      <td>NaN</td>\n",
       "      <td>9.885388</td>\n",
       "      <td>9.885388</td>\n",
       "    </tr>\n",
       "    <tr>\n",
       "      <th>142</th>\n",
       "      <td>-0.493099</td>\n",
       "      <td>NaN</td>\n",
       "      <td>9.940427</td>\n",
       "      <td>NaN</td>\n",
       "      <td>9.940427</td>\n",
       "    </tr>\n",
       "  </tbody>\n",
       "</table>\n",
       "<p>193 rows × 5 columns</p>\n",
       "</div>"
      ],
      "text/plain": [
       "     sensor_1  sensor_2  t_sensor_1  t_sensor_2      time\n",
       "0    0.000427       NaN    0.000427         NaN  0.000427\n",
       "1    0.070369       NaN    0.070427         NaN  0.070427\n",
       "0         NaN  0.007282         NaN    0.085388  0.085388\n",
       "2    0.139966       NaN    0.140427         NaN  0.140427\n",
       "3    0.208877       NaN    0.210427         NaN  0.210427\n",
       "..        ...       ...         ...         ...       ...\n",
       "139 -0.300912       NaN    9.730427         NaN  9.730427\n",
       "140 -0.366876       NaN    9.800427         NaN  9.800427\n",
       "141 -0.431043       NaN    9.870427         NaN  9.870427\n",
       "49        NaN -4.393999         NaN    9.885388  9.885388\n",
       "142 -0.493099       NaN    9.940427         NaN  9.940427\n",
       "\n",
       "[193 rows x 5 columns]"
      ]
     },
     "execution_count": 70,
     "metadata": {},
     "output_type": "execute_result"
    }
   ],
   "source": [
    "df"
   ]
  },
  {
   "cell_type": "markdown",
   "metadata": {},
   "source": [
    "# Interpolate everything to the same time base"
   ]
  },
  {
   "cell_type": "markdown",
   "metadata": {},
   "source": [
    "### Make master time\n",
    "\n",
    "Choose a master time closest to the sensor that you want to interpolate the least, e.g. the least predictable and most critical sensor. Hopefully that is also one of the faster sensors."
   ]
  },
  {
   "cell_type": "code",
   "execution_count": 87,
   "metadata": {},
   "outputs": [
    {
     "name": "stdout",
     "output_type": "stream",
     "text": [
      "dt sensor 1:  0.07000000000000028\n",
      "dt sensor 2:  0.20000000000000018\n"
     ]
    }
   ],
   "source": [
    "# average time step for sensor 1\n",
    "dt_sensor_1 = np.median(np.diff(df['t_sensor_1'].dropna().values))\n",
    "print('dt sensor 1: ', dt_sensor_1)\n",
    "\n",
    "dt_sensor_2 = np.median(np.diff(df['t_sensor_2'].dropna().values))\n",
    "print('dt sensor 2: ', dt_sensor_2)"
   ]
  },
  {
   "cell_type": "code",
   "execution_count": 88,
   "metadata": {},
   "outputs": [],
   "source": [
    "# create master time\n",
    "# master time should start with a value larger  than the largest  first value of the two sensors\n",
    "# master time should end   with a value smaller than the smallest last  value of the two sensors\n",
    "first_time = np.max([df['t_sensor_1'].min(), df['t_sensor_2'].min()])\n",
    "last_time = np.min([df['t_sensor_1'].max(), df['t_sensor_2'].max()])\n",
    "master_time = np.arange(first_time, last_time, dt)"
   ]
  },
  {
   "cell_type": "markdown",
   "metadata": {},
   "source": [
    "### Interpolate"
   ]
  },
  {
   "cell_type": "code",
   "execution_count": 89,
   "metadata": {},
   "outputs": [],
   "source": [
    "# create interpolation function and inteprolate sensor 1\n",
    "df_sensor_1 = df[['t_sensor_1', 'sensor_1']].dropna()\n",
    "func_interp_sensor_1 = scipy.interpolate.interp1d(df_sensor_1.t_sensor_1, df_sensor_1.sensor_1)\n",
    "interp_sensor_1 = func_interp_sensor_1(master_time)"
   ]
  },
  {
   "cell_type": "code",
   "execution_count": 95,
   "metadata": {},
   "outputs": [],
   "source": [
    "# create interpolation function and inteprolate sensor 2\n",
    "df_sensor_2 = df[['t_sensor_2', 'sensor_2']].dropna()\n",
    "func_interp_sensor_2 = scipy.interpolate.interp1d(df_sensor_2.t_sensor_2, df_sensor_2.sensor_2, \n",
    "                                                  kind='cubic')\n",
    "interp_sensor_2 = func_interp_sensor_2(master_time)"
   ]
  },
  {
   "cell_type": "code",
   "execution_count": 96,
   "metadata": {},
   "outputs": [
    {
     "data": {
      "text/plain": [
       "[<matplotlib.lines.Line2D at 0x7f8b69e68780>]"
      ]
     },
     "execution_count": 96,
     "metadata": {},
     "output_type": "execute_result"
    },
    {
     "data": {
      "image/png": "[encoded data removed]",
      "text/plain": [
       "<Figure size 432x288 with 1 Axes>"
      ]
     },
     "metadata": {
      "needs_background": "light"
     },
     "output_type": "display_data"
    }
   ],
   "source": [
    "plt.plot(master_time, interp_sensor_1, '.')\n",
    "plt.plot(master_time, interp_sensor_2, '.', color='red')"
   ]
  },
  {
   "cell_type": "markdown",
   "metadata": {},
   "source": [
    "### Combine into a new dataframe"
   ]
  },
  {
   "cell_type": "code",
   "execution_count": 97,
   "metadata": {},
   "outputs": [],
   "source": [
    "new_df = pandas.DataFrame({'master_time': master_time,\n",
    "                           'sensor_1': interp_sensor_1,\n",
    "                           'sensor_2': interp_sensor_2})"
   ]
  },
  {
   "cell_type": "code",
   "execution_count": 98,
   "metadata": {},
   "outputs": [
    {
     "data": {
      "text/html": [
       "<div>\n",
       "<style scoped>\n",
       "    .dataframe tbody tr th:only-of-type {\n",
       "        vertical-align: middle;\n",
       "    }\n",
       "\n",
       "    .dataframe tbody tr th {\n",
       "        vertical-align: top;\n",
       "    }\n",
       "\n",
       "    .dataframe thead th {\n",
       "        text-align: right;\n",
       "    }\n",
       "</style>\n",
       "<table border=\"1\" class=\"dataframe\">\n",
       "  <thead>\n",
       "    <tr style=\"text-align: right;\">\n",
       "      <th></th>\n",
       "      <th>master_time</th>\n",
       "      <th>sensor_1</th>\n",
       "      <th>sensor_2</th>\n",
       "    </tr>\n",
       "  </thead>\n",
       "  <tbody>\n",
       "    <tr>\n",
       "      <th>0</th>\n",
       "      <td>0.085388</td>\n",
       "      <td>0.085243</td>\n",
       "      <td>0.007282</td>\n",
       "    </tr>\n",
       "    <tr>\n",
       "      <th>1</th>\n",
       "      <td>0.155388</td>\n",
       "      <td>0.154694</td>\n",
       "      <td>0.023879</td>\n",
       "    </tr>\n",
       "    <tr>\n",
       "      <th>2</th>\n",
       "      <td>0.225388</td>\n",
       "      <td>0.223387</td>\n",
       "      <td>0.050272</td>\n",
       "    </tr>\n",
       "    <tr>\n",
       "      <th>3</th>\n",
       "      <td>0.295388</td>\n",
       "      <td>0.290986</td>\n",
       "      <td>0.086004</td>\n",
       "    </tr>\n",
       "    <tr>\n",
       "      <th>4</th>\n",
       "      <td>0.365388</td>\n",
       "      <td>0.357159</td>\n",
       "      <td>0.130620</td>\n",
       "    </tr>\n",
       "    <tr>\n",
       "      <th>...</th>\n",
       "      <td>...</td>\n",
       "      <td>...</td>\n",
       "      <td>...</td>\n",
       "    </tr>\n",
       "    <tr>\n",
       "      <th>135</th>\n",
       "      <td>9.535388</td>\n",
       "      <td>-0.110333</td>\n",
       "      <td>-1.052571</td>\n",
       "    </tr>\n",
       "    <tr>\n",
       "      <th>136</th>\n",
       "      <td>9.605388</td>\n",
       "      <td>-0.179550</td>\n",
       "      <td>-1.725438</td>\n",
       "    </tr>\n",
       "    <tr>\n",
       "      <th>137</th>\n",
       "      <td>9.675388</td>\n",
       "      <td>-0.247887</td>\n",
       "      <td>-2.399451</td>\n",
       "    </tr>\n",
       "    <tr>\n",
       "      <th>138</th>\n",
       "      <td>9.745388</td>\n",
       "      <td>-0.315010</td>\n",
       "      <td>-3.071172</td>\n",
       "    </tr>\n",
       "    <tr>\n",
       "      <th>139</th>\n",
       "      <td>9.815388</td>\n",
       "      <td>-0.380590</td>\n",
       "      <td>-3.737167</td>\n",
       "    </tr>\n",
       "  </tbody>\n",
       "</table>\n",
       "<p>140 rows × 3 columns</p>\n",
       "</div>"
      ],
      "text/plain": [
       "     master_time  sensor_1  sensor_2\n",
       "0       0.085388  0.085243  0.007282\n",
       "1       0.155388  0.154694  0.023879\n",
       "2       0.225388  0.223387  0.050272\n",
       "3       0.295388  0.290986  0.086004\n",
       "4       0.365388  0.357159  0.130620\n",
       "..           ...       ...       ...\n",
       "135     9.535388 -0.110333 -1.052571\n",
       "136     9.605388 -0.179550 -1.725438\n",
       "137     9.675388 -0.247887 -2.399451\n",
       "138     9.745388 -0.315010 -3.071172\n",
       "139     9.815388 -0.380590 -3.737167\n",
       "\n",
       "[140 rows x 3 columns]"
      ]
     },
     "execution_count": 98,
     "metadata": {},
     "output_type": "execute_result"
    }
   ],
   "source": [
    "new_df"
   ]
  },
  {
   "cell_type": "code",
   "execution_count": null,
   "metadata": {},
   "outputs": [],
   "source": []
  }
 ],
 "metadata": {
  "kernelspec": {
   "display_name": "PY35",
   "language": "python",
   "name": "py35"
  },
  "language_info": {
   "codemirror_mode": {
    "name": "ipython",
    "version": 3
   },
   "file_extension": ".py",
   "mimetype": "text/x-python",
   "name": "python",
   "nbconvert_exporter": "python",
   "pygments_lexer": "ipython3",
   "version": "3.5.6"
  }
 },
 "nbformat": 4,
 "nbformat_minor": 2
}
