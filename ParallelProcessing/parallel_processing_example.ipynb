{
 "cells": [
  {
   "cell_type": "code",
   "execution_count": 14,
   "metadata": {},
   "outputs": [],
   "source": [
    "import numpy as np\n",
    "import multiprocessing\n",
    "\n",
    "import time"
   ]
  },
  {
   "cell_type": "code",
   "execution_count": 33,
   "metadata": {},
   "outputs": [],
   "source": [
    "def foo(x, y, z):\n",
    "    a = [(x*y*z)**np.random.random() for i in range(1000000)]\n",
    "    return a"
   ]
  },
  {
   "cell_type": "markdown",
   "metadata": {},
   "source": [
    "### One iteration"
   ]
  },
  {
   "cell_type": "code",
   "execution_count": 34,
   "metadata": {},
   "outputs": [
    {
     "name": "stdout",
     "output_type": "stream",
     "text": [
      "Time elapsed:  0.8147218227386475\n"
     ]
    }
   ],
   "source": [
    "tstart = time.time()\n",
    "\n",
    "val = foo(2,3,4)\n",
    "\n",
    "print('Time elapsed: ', time.time()-tstart)"
   ]
  },
  {
   "cell_type": "markdown",
   "metadata": {},
   "source": [
    "### Thirty iterations single CPU"
   ]
  },
  {
   "cell_type": "code",
   "execution_count": 32,
   "metadata": {},
   "outputs": [
    {
     "name": "stdout",
     "output_type": "stream",
     "text": [
      "Time elapsed:  21.192890882492065\n"
     ]
    }
   ],
   "source": [
    "tstart = time.time()\n",
    "\n",
    "vals = []\n",
    "for i in range(30):\n",
    "    val = foo(2,3,4)\n",
    "    vals.append(val)\n",
    "    \n",
    "print('Time elapsed: ', time.time()-tstart)"
   ]
  },
  {
   "cell_type": "markdown",
   "metadata": {},
   "source": [
    "### Thirty iterations multiprocessed by 16 cores"
   ]
  },
  {
   "cell_type": "code",
   "execution_count": 40,
   "metadata": {},
   "outputs": [],
   "source": [
    "# wrapper for foo, there is probably a more elegant solution\n",
    "def bar(input):\n",
    "    return foo(*input)"
   ]
  },
  {
   "cell_type": "code",
   "execution_count": 41,
   "metadata": {},
   "outputs": [
    {
     "name": "stdout",
     "output_type": "stream",
     "text": [
      "Time elapsed:  5.266870498657227\n"
     ]
    }
   ],
   "source": [
    "tstart = time.time()\n",
    "\n",
    "Ncores = 16\n",
    "\n",
    "inputs = [[2,3,4] for i in range(30)]\n",
    "\n",
    "pool = multiprocessing.Pool(Ncores)\n",
    "vals = pool.map(bar, inputs)\n",
    "pool.terminate()\n",
    "    \n",
    "print('Time elapsed: ', time.time()-tstart)"
   ]
  }
 ],
 "metadata": {
  "kernelspec": {
   "display_name": "Python 3",
   "language": "python",
   "name": "python3"
  },
  "language_info": {
   "codemirror_mode": {
    "name": "ipython",
    "version": 3
   },
   "file_extension": ".py",
   "mimetype": "text/x-python",
   "name": "python",
   "nbconvert_exporter": "python",
   "pygments_lexer": "ipython3",
   "version": "3.5.2"
  }
 },
 "nbformat": 4,
 "nbformat_minor": 2
}
