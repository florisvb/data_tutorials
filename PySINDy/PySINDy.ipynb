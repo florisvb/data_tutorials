{
 "cells": [
  {
   "cell_type": "code",
   "execution_count": 1,
   "metadata": {},
   "outputs": [],
   "source": [
    "import pynumdiff\n",
    "import numpy as np\n",
    "import cvxpy\n",
    "import matplotlib.pyplot as plt"
   ]
  },
  {
   "cell_type": "code",
   "execution_count": 2,
   "metadata": {},
   "outputs": [],
   "source": [
    "dt = 0.01\n",
    "noise_parameters = [0, 0.0001]"
   ]
  },
  {
   "cell_type": "code",
   "execution_count": 3,
   "metadata": {},
   "outputs": [],
   "source": [
    "noisy_measurements, actual_vals, extras = pynumdiff.utils.simulate.lorenz_xyz(dt=dt, \n",
    "                                                                              noise_parameters=noise_parameters)\n",
    "x = noisy_measurements[0,:]\n",
    "y = noisy_measurements[1,:]\n",
    "z = noisy_measurements[2,:]\n",
    "noisy_measurements = [x, y, z]"
   ]
  },
  {
   "cell_type": "code",
   "execution_count": 4,
   "metadata": {},
   "outputs": [],
   "source": [
    "def get_library(noisy_measurements):\n",
    "    x, y, z = noisy_measurements\n",
    "    library = [x, y, z, x**2, y**2, z**2, x*y, x*z, y*z, \n",
    "                         np.sin(x), np.sin(y), np.sin(z), np.ones_like(x)]\n",
    "    return library"
   ]
  },
  {
   "cell_type": "code",
   "execution_count": 51,
   "metadata": {},
   "outputs": [],
   "source": [
    "def whiten_library(library):\n",
    "    white_library = []\n",
    "    for m in library:\n",
    "        if np.std(m) < 1e-6:\n",
    "            white_library.append(m - np.mean(m) + 1)\n",
    "        else:\n",
    "            mean_shifted_m = m - np.mean(m)\n",
    "            white_m = mean_shifted_m / np.std(mean_shifted_m)\n",
    "            white_library.append(white_m)\n",
    "    return white_library"
   ]
  },
  {
   "cell_type": "code",
   "execution_count": 52,
   "metadata": {},
   "outputs": [],
   "source": [
    "def take_derivative(measurements, dt, smoothing_factor=100):\n",
    "    diff_measurements = []\n",
    "    for measurement in measurements:\n",
    "        smooth_measurement, diff_measurement = pynumdiff.total_variation_regularization.jerk(measurement, dt, smoothing_factor)\n",
    "        diff_measurements.append(diff_measurement)\n",
    "    return diff_measurements"
   ]
  },
  {
   "cell_type": "code",
   "execution_count": 53,
   "metadata": {},
   "outputs": [],
   "source": [
    "def sindy(outputs, inputs, gamma, solver='MOSEK'):\n",
    "    '''\n",
    "    Run SINDy algorithm. You may wish to whiten the outputs and inputs first. \n",
    "    \n",
    "    Parameters\n",
    "    ----------\n",
    "    outputs:  (list of 1D arrays)  - Outputs, traditionally these will be derivatives, e.g. [xdot, ydot, zdot]\n",
    "    inputs:   (list of 1D arrays)  - Library of inputs, which will be linearly combined with a sparsity\n",
    "                                     constraint.\n",
    "    gamma:    (float,              - Weighting of L1 penalty\n",
    "               or list of floats)    If list, different L1 penalty applied to each output, list should have\n",
    "                                     same length as inputs list. \n",
    "    \n",
    "    Returns\n",
    "    -------\n",
    "    coefficients: (list of 1D arrays)  - list of the coefficients for each input, for each output\n",
    "    '''\n",
    "    \n",
    "    # define coefficients\n",
    "    coefficients = [cvxpy.Variable( len(inputs) ) for output in outputs]\n",
    "\n",
    "    # calculate errors\n",
    "    errors = []\n",
    "    for o, output in enumerate(outputs):\n",
    "        e = cvxpy.sum_squares( output - np.vstack(inputs).T*coefficients[o] )\n",
    "        errors.append(e)\n",
    "    sum_squared_error = cvxpy.sum(errors)\n",
    "\n",
    "    # L1 norm penalty\n",
    "    r = [cvxpy.norm( coeff, 1) for coeff in coefficients]\n",
    "    \n",
    "    # Weighted L1 norm penalty\n",
    "    if type(gamma) is not list:\n",
    "        gamma = [gamma]*len(r)\n",
    "    assert len(gamma) == len(r)\n",
    "    r_weighted = cvxpy.sum([r[i]*gamma[i] for i in range(len(gamma))])\n",
    "\n",
    "    # Set up and solve the optimization problem\n",
    "    obj = cvxpy.Minimize(sum_squared_error + r_weighted)\n",
    "    prob = cvxpy.Problem(obj)\n",
    "    prob.solve(solver='MOSEK')\n",
    "    \n",
    "    return [coeff.value for coeff in coefficients]"
   ]
  },
  {
   "cell_type": "code",
   "execution_count": 46,
   "metadata": {},
   "outputs": [],
   "source": [
    "outputs = take_derivative(noisy_measurements, dt, smoothing_factor=10)\n",
    "inputs = get_library(noisy_measurements)\n",
    "gamma = 10"
   ]
  },
  {
   "cell_type": "code",
   "execution_count": 58,
   "metadata": {},
   "outputs": [
    {
     "data": {
      "text/plain": [
       "[<matplotlib.lines.Line2D at 0x7f662816f320>]"
      ]
     },
     "execution_count": 58,
     "metadata": {},
     "output_type": "execute_result"
    },
    {
     "data": {
      "image/png": "[encoded data removed]",
      "text/plain": [
       "<Figure size 432x288 with 1 Axes>"
      ]
     },
     "metadata": {},
     "output_type": "display_data"
    }
   ],
   "source": [
    "plt.plot(outputs[0].T)\n",
    "plt.plot(actual_vals[3].T)"
   ]
  },
  {
   "cell_type": "code",
   "execution_count": 47,
   "metadata": {},
   "outputs": [
    {
     "name": "stdout",
     "output_type": "stream",
     "text": [
      "[-5.17512248e+00  8.13655468e+00  1.36961615e-07  8.18455902e-08\n",
      " -1.34034823e-02  1.66673875e-02 -3.95285389e-07  5.14027677e-08\n",
      " -3.70798812e-02 -4.58126548e+00  1.89858297e+00  5.93123561e-07\n",
      " -5.90816629e-02]\n",
      "[ 3.01057513e+01  4.74759510e-07 -6.50275308e-08 -1.98202873e+00\n",
      " -1.19010032e-07  6.76930465e-02  1.76313366e+00 -1.52666132e+01\n",
      " -5.00046218e-01  6.53207085e-07  4.35869766e+00 -3.86893067e-01\n",
      " -1.70448052e-07]\n",
      "[-4.99201755e-08  2.57627042e-01 -1.62246965e+00  9.71289748e+00\n",
      "  1.11856131e-07 -6.78486445e-01  1.37649153e+01 -1.58003685e-02\n",
      " -1.09091694e-01 -9.06672898e-08  1.07455058e-08  5.36341917e-08\n",
      "  2.66313857e-10]\n"
     ]
    }
   ],
   "source": [
    "coeffs = sindy(outputs, inputs, gamma)\n",
    "for coeff in coeffs:\n",
    "    print(coeff)"
   ]
  },
  {
   "cell_type": "code",
   "execution_count": 55,
   "metadata": {},
   "outputs": [
    {
     "name": "stdout",
     "output_type": "stream",
     "text": [
      "[-1.16152491e-07  8.47086469e-01  3.78444191e-09  8.79731767e-09\n",
      " -5.34118829e-09 -1.72784870e-10  1.31665470e-08 -5.90166975e-01\n",
      "  4.58729126e-02 -3.24946279e-07  5.60670922e-07  1.07241472e-08\n",
      "  1.03214691e-21]\n",
      "[ 1.25715601e-09  1.74626453e-01 -2.35540250e-02 -3.42425614e-08\n",
      "  2.83390594e-08 -2.94026994e-07  7.11207109e-09 -8.14190791e-01\n",
      " -2.92563189e-09  7.97637136e-09  2.96659436e-01  5.64961396e-09\n",
      "  2.15404761e-21]\n",
      "[ 9.89920936e-09  1.66903222e-08 -6.07919587e-03  2.24424318e-08\n",
      "  1.29260076e-07 -6.60650490e-08  8.51644159e-01  7.06228564e-09\n",
      "  1.25926386e-08  9.65439342e-09  1.24992786e-08  5.99783180e-09\n",
      "  3.93037618e-23]\n"
     ]
    }
   ],
   "source": [
    "coeffs = sindy(whiten_library(outputs), whiten_library(inputs), 100)\n",
    "for coeff in coeffs:\n",
    "    print(coeff)"
   ]
  },
  {
   "cell_type": "code",
   "execution_count": null,
   "metadata": {},
   "outputs": [],
   "source": [
    "# iterate sindy to progressively eliminate terms"
   ]
  }
 ],
 "metadata": {
  "kernelspec": {
   "display_name": "Python 3",
   "language": "python",
   "name": "python3"
  },
  "language_info": {
   "codemirror_mode": {
    "name": "ipython",
    "version": 3
   },
   "file_extension": ".py",
   "mimetype": "text/x-python",
   "name": "python",
   "nbconvert_exporter": "python",
   "pygments_lexer": "ipython3",
   "version": "3.5.2"
  }
 },
 "nbformat": 4,
 "nbformat_minor": 2
}
