{
 "cells": [
  {
   "cell_type": "code",
   "execution_count": 1,
   "metadata": {},
   "outputs": [
    {
     "ename": "ImportError",
     "evalue": "No module named multi_tracker_analysis",
     "output_type": "error",
     "traceback": [
      "\u001b[0;31m---------------------------------------------------------------------------\u001b[0m",
      "\u001b[0;31mImportError\u001b[0m                               Traceback (most recent call last)",
      "\u001b[0;32m<ipython-input-1-3f04e56b6669>\u001b[0m in \u001b[0;36m<module>\u001b[0;34m()\u001b[0m\n\u001b[1;32m      1\u001b[0m \u001b[0;31m# import multi tracker analysis\u001b[0m\u001b[0;34m\u001b[0m\u001b[0;34m\u001b[0m\u001b[0m\n\u001b[0;32m----> 2\u001b[0;31m \u001b[0;32mimport\u001b[0m \u001b[0mmulti_tracker_analysis\u001b[0m \u001b[0;32mas\u001b[0m \u001b[0mmta\u001b[0m\u001b[0;34m\u001b[0m\u001b[0m\n\u001b[0m",
      "\u001b[0;31mImportError\u001b[0m: No module named multi_tracker_analysis"
     ]
    }
   ],
   "source": [
    "# import multi tracker analysis\n",
    "import multi_tracker_analysis as mta"
   ]
  },
  {
   "cell_type": "code",
   "execution_count": null,
   "metadata": {},
   "outputs": [],
   "source": [
    "# load hdf5 data as a pandas dataframe, and load the configuration\n",
    "# change the argument to match your data path!\n",
    "pd, config = mta.read_hdf5_file_to_pandas.load_and_preprocess_data('/home/caveman/demo/demo_1/test_data/')"
   ]
  },
  {
   "cell_type": "code",
   "execution_count": null,
   "metadata": {},
   "outputs": [],
   "source": [
    "# pandas dataframe structure: each row is a measurement corresponding to one of the objects for each frame\n",
    "pd.keys()"
   ]
  },
  {
   "cell_type": "code",
   "execution_count": null,
   "metadata": {},
   "outputs": [],
   "source": [
    "# show the object id's\n",
    "import numpy as np\n",
    "np.unique(pd.objid)"
   ]
  },
  {
   "cell_type": "code",
   "execution_count": null,
   "metadata": {},
   "outputs": [],
   "source": [
    "position_for_10 = pd[pd.objid==10].position_x.values\n",
    "position_for_10"
   ]
  },
  {
   "cell_type": "code",
   "execution_count": null,
   "metadata": {},
   "outputs": [],
   "source": [
    "# wrap pandas dataframe into a dataset object for intuitive processing\n",
    "# note: using copy=True creates a copy of the data\n",
    "#       this allows you to add attributes to trajecties and pickle the dataset structure for future use\n",
    "dataset = mta.read_hdf5_file_to_pandas.Dataset(pd, config=config)\n",
    "dataset.load_keys() # load the object ids\n",
    "trajec = dataset.trajec(dataset.keys[7]) # load the 7th trajectory\n",
    "trajec.position_x # show the position x data"
   ]
  },
  {
   "cell_type": "code",
   "execution_count": null,
   "metadata": {},
   "outputs": [],
   "source": [
    "import matplotlib.pyplot as plt\n",
    "%matplotlib inline"
   ]
  },
  {
   "cell_type": "code",
   "execution_count": null,
   "metadata": {
    "scrolled": true
   },
   "outputs": [],
   "source": [
    "# plot the trajectory; this requires downloading my plotting library: https://github.com/florisvb/FlyPlotLib\n",
    "mta.plot.plot_trajectories(dataset, dataset.keys)"
   ]
  },
  {
   "cell_type": "code",
   "execution_count": null,
   "metadata": {},
   "outputs": [],
   "source": [
    "# make a heatmap of the trajectories\n",
    "bgimg = mta.plot.get_filename(config.path, 'bgimg')\n",
    "binsx, binsy = mta.plot.get_bins_from_backgroundimage(bgimg)\n",
    "mta.plot.plot_heatmap(pd, binsx, binsy)"
   ]
  },
  {
   "cell_type": "code",
   "execution_count": null,
   "metadata": {},
   "outputs": [],
   "source": []
  }
 ],
 "metadata": {
  "kernelspec": {
   "display_name": "Python 2",
   "language": "python",
   "name": "python2"
  },
  "language_info": {
   "codemirror_mode": {
    "name": "ipython",
    "version": 2
   },
   "file_extension": ".py",
   "mimetype": "text/x-python",
   "name": "python",
   "nbconvert_exporter": "python",
   "pygments_lexer": "ipython2",
   "version": "2.7.12"
  }
 },
 "nbformat": 4,
 "nbformat_minor": 1
}
