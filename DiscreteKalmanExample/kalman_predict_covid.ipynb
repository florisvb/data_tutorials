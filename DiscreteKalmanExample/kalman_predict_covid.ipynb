{
 "cells": [
  {
   "cell_type": "code",
   "execution_count": 101,
   "metadata": {},
   "outputs": [],
   "source": [
    "import numpy as np\n",
    "import matplotlib.pyplot as plt\n",
    "import pandas\n",
    "import copy"
   ]
  },
  {
   "cell_type": "markdown",
   "metadata": {},
   "source": [
    "# Kalman smoother"
   ]
  },
  {
   "cell_type": "code",
   "execution_count": 102,
   "metadata": {},
   "outputs": [],
   "source": [
    "def __kalman_forward_update__(xhat_fm, P_fm, y, u, A, B, C, R, Q):\n",
    "    '''\n",
    "    H = C\n",
    "    Phi = A\n",
    "    Gamma = B\n",
    "    '''\n",
    "    I = np.matrix(np.eye(A.shape[0]))\n",
    "    gammaW = np.matrix(np.eye(A.shape[0]))\n",
    "\n",
    "    K_f = P_fm*C.T*(C*P_fm*C.T + R).I\n",
    "\n",
    "    if y[0,0] is not None:\n",
    "        xhat_fp = xhat_fm + K_f*(y - C*xhat_fm)\n",
    "        P_fp = (I - K_f*C)*P_fm\n",
    "    else: # no new data\n",
    "        xhat_fp = xhat_fm\n",
    "        P_fp = P_fm\n",
    "\n",
    "    xhat_fm = A*xhat_fp + B*u\n",
    "\n",
    "    P_fm = A*P_fp*A.T + gammaW*Q*gammaW.T\n",
    "\n",
    "    return xhat_fp, xhat_fm, P_fp, P_fm\n",
    "\n",
    "def __kalman_forward_filter__(xhat_fm, P_fm, y, u, A, B, C, R, Q):\n",
    "    assert type(xhat_fm) is np.matrix\n",
    "    assert type(P_fm) is np.matrix\n",
    "    assert type(A) is np.matrix\n",
    "    assert type(B) is np.matrix\n",
    "    assert type(C) is np.matrix\n",
    "    assert type(R) is np.matrix\n",
    "    assert type(Q) is np.matrix\n",
    "    assert type(y) is np.matrix\n",
    "    if u is None:\n",
    "        u = np.matrix(np.zeros([B.shape[1], y.shape[1]]))\n",
    "    assert type(u) is np.matrix\n",
    "    \n",
    "    N = y.shape[1]\n",
    "\n",
    "    xhat_fp = None\n",
    "    P_fp = []\n",
    "    P_fm = [P_fm]\n",
    "\n",
    "    for i in range(y.shape[1]):\n",
    "        _xhat_fp, _xhat_fm, _P_fp, _P_fm = __kalman_forward_update__(xhat_fm[:, -1], P_fm[-1], y[:, i], u[:, i], \n",
    "                                                                 A, B, C, R, Q)\n",
    "        if xhat_fp is None:\n",
    "            xhat_fp = _xhat_fp\n",
    "        else:\n",
    "            xhat_fp = np.hstack((xhat_fp, _xhat_fp))\n",
    "        xhat_fm = np.hstack((xhat_fm, _xhat_fm))\n",
    "        \n",
    "        P_fp.append(_P_fp)\n",
    "        P_fm.append(_P_fm)\n",
    "\n",
    "    return xhat_fp, xhat_fm, P_fp, P_fm\n",
    "\n",
    "def __kalman_backward_smooth__(xhat_fp, xhat_fm, P_fp, P_fm, A):\n",
    "    N = xhat_fp.shape[1]\n",
    "\n",
    "    xhat_smooth = copy.copy(xhat_fp)\n",
    "    P_smooth = copy.copy(P_fp)\n",
    "    for t in range(N-2, -1, -1):\n",
    "        L = P_fp[t]*A.T*P_fm[t].I\n",
    "        xhat_smooth[:,t] = xhat_fp[:,t] + L*(xhat_smooth[:,t+1] - xhat_fm[:,t+1])\n",
    "        P_smooth[t] = P_fp[t] - L*(P_smooth[t+1] - P_fm[t+1])\n",
    "    \n",
    "    return xhat_smooth, P_smooth"
   ]
  },
  {
   "cell_type": "markdown",
   "metadata": {},
   "source": [
    "# Data\n",
    "\n",
    "US confirmed new daily cases, not 7-day averaged. "
   ]
  },
  {
   "cell_type": "code",
   "execution_count": 51,
   "metadata": {},
   "outputs": [
    {
     "data": {
      "text/plain": [
       "Text(0,0.5,'New daily cases')"
      ]
     },
     "execution_count": 51,
     "metadata": {},
     "output_type": "execute_result"
    },
    {
     "data": {
      "image/png": "[encoded data removed]",
      "text/plain": [
       "<Figure size 432x288 with 1 Axes>"
      ]
     },
     "metadata": {},
     "output_type": "display_data"
    }
   ],
   "source": [
    "df = pandas.read_csv('covid_us_confirmed_072020.csv')\n",
    "\n",
    "columns_to_drop = []\n",
    "for col in df.columns:\n",
    "    if '/' not in col:\n",
    "        columns_to_drop.append(col)\n",
    "        \n",
    "df = df.drop(columns=columns_to_drop)\n",
    "covid = np.diff( df.sum(axis=0).values ) / 10.\n",
    "dt = 1 # 1 day\n",
    "t = np.arange(0, len(covid))\n",
    "\n",
    "plt.plot(t, covid, '.')\n",
    "plt.xlabel('Days since pandemic start')\n",
    "plt.ylabel('New daily cases')"
   ]
  },
  {
   "cell_type": "markdown",
   "metadata": {},
   "source": [
    "# Take a subset of data\n",
    "\n",
    "And run kalman smoother to predict N days forward"
   ]
  },
  {
   "cell_type": "code",
   "execution_count": 103,
   "metadata": {},
   "outputs": [],
   "source": [
    "daysofdata = 100\n",
    "ndayspred = 100"
   ]
  },
  {
   "cell_type": "code",
   "execution_count": 104,
   "metadata": {},
   "outputs": [],
   "source": [
    "x = covid[0:daysofdata]"
   ]
  },
  {
   "cell_type": "markdown",
   "metadata": {},
   "source": [
    "# Kalman smooth"
   ]
  },
  {
   "cell_type": "code",
   "execution_count": 105,
   "metadata": {},
   "outputs": [],
   "source": [
    "# I tuned these manually to \"look good\".. we have no empirical data to tell us what is correct.\n",
    "# They can be tuned statistically using an expectation maximization approach\n",
    "r = 100000 # How bad is your sensor (smaller means it is more reliable)\n",
    "q = 100 # How bad is your model (smaller means it is better)\n",
    "\n",
    "# Using a constant velocity model, meaning, without additional information, we assume the number of new daily\n",
    "# cases increases at the same rate as yesterday\n",
    "A = np.matrix([[1, dt], [0, 1]])\n",
    "B = np.matrix([[0], [0]])\n",
    "C = np.matrix([[1, 0]])\n",
    "R = np.matrix([[r]])\n",
    "Q = np.matrix([[1e-16, 0], [0, q]])\n",
    "x0 = np.matrix([[x[0]], [0]])\n",
    "P0 = np.matrix(100*np.eye(2))\n",
    "y = np.matrix( np.hstack([x, [None]*ndayspred]) ) # None will force a prediction\n",
    "u = None\n",
    "    \n",
    "# Kalman filter\n",
    "xhat_fp, xhat_fm, P_fp, P_fm = __kalman_forward_filter__(x0, P0, y, u, A, B, C, R, Q)\n",
    "# Kalman smooth\n",
    "xhat_smooth, P_smooth = __kalman_backward_smooth__(xhat_fp, xhat_fm, P_fp, P_fm, A)\n",
    "\n",
    "# Pull out the data we want\n",
    "\n",
    "# The smoothed new daily cases\n",
    "covid_smooth = np.array(np.ravel(xhat_smooth[0,:]), dtype=float)\n",
    "\n",
    "# The covariance of the smoothed daily cases: gives sense of how reliable the estimate is \n",
    "covid_covar = np.array([P_smooth_i[0,0]  for P_smooth_i in P_smooth], dtype=float)\n",
    "\n",
    "# Time (days)\n",
    "t = np.arange(0, len(covid_smooth))"
   ]
  },
  {
   "cell_type": "markdown",
   "metadata": {},
   "source": [
    "# Plot"
   ]
  },
  {
   "cell_type": "code",
   "execution_count": 106,
   "metadata": {},
   "outputs": [
    {
     "data": {
      "text/plain": [
       "(0, 10000)"
      ]
     },
     "execution_count": 106,
     "metadata": {},
     "output_type": "execute_result"
    },
    {
     "data": {
      "image/png": "[encoded data removed]",
      "text/plain": [
       "<Figure size 432x288 with 1 Axes>"
      ]
     },
     "metadata": {},
     "output_type": "display_data"
    }
   ],
   "source": [
    "fig = plt.figure()\n",
    "ax = fig.add_subplot(111)\n",
    "\n",
    "\n",
    "ax.plot(t[0:-1*ndayspred], covid_smooth[0:-1*ndayspred], color='green')\n",
    "ax.plot(t, covid_smooth, color='red', zorder=-10)\n",
    "\n",
    "ax.fill_between(t, covid_smooth-3*np.sqrt(covid_covar),\n",
    "                 covid_smooth+3*np.sqrt(covid_covar), facecolor='red', alpha=0.2, edgecolor='none', zorder=-20)\n",
    "\n",
    "plt.plot(np.arange(0, len(covid)), covid, '.', zorder=-30)\n",
    "\n",
    "plt.ylim(0, 10000)"
   ]
  },
  {
   "cell_type": "code",
   "execution_count": null,
   "metadata": {},
   "outputs": [],
   "source": []
  },
  {
   "cell_type": "code",
   "execution_count": null,
   "metadata": {},
   "outputs": [],
   "source": []
  },
  {
   "cell_type": "code",
   "execution_count": null,
   "metadata": {},
   "outputs": [],
   "source": []
  },
  {
   "cell_type": "code",
   "execution_count": null,
   "metadata": {},
   "outputs": [],
   "source": []
  }
 ],
 "metadata": {
  "kernelspec": {
   "display_name": "Python 3",
   "language": "python",
   "name": "python3"
  },
  "language_info": {
   "codemirror_mode": {
    "name": "ipython",
    "version": 3
   },
   "file_extension": ".py",
   "mimetype": "text/x-python",
   "name": "python",
   "nbconvert_exporter": "python",
   "pygments_lexer": "ipython3",
   "version": "3.5.2"
  }
 },
 "nbformat": 4,
 "nbformat_minor": 2
}
